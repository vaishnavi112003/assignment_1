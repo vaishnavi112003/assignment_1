{
 "cells": [
  {
   "cell_type": "code",
   "execution_count": 1,
   "id": "992e4b48-1d19-4c5a-bdd0-a3799795b7c0",
   "metadata": {},
   "outputs": [],
   "source": [
    "#Creat one variable containing following type data"
   ]
  },
  {
   "cell_type": "code",
   "execution_count": 9,
   "id": "8a21af2c-2852-4316-8f52-747a2bc1a7aa",
   "metadata": {},
   "outputs": [
    {
     "data": {
      "text/plain": [
       "str"
      ]
     },
     "execution_count": 9,
     "metadata": {},
     "output_type": "execute_result"
    }
   ],
   "source": [
    "s =\"Vaishnavi\"\n",
    "type(s)"
   ]
  },
  {
   "cell_type": "code",
   "execution_count": 12,
   "id": "7b0df41d-3511-4668-9733-25a85f68e4d0",
   "metadata": {},
   "outputs": [
    {
     "data": {
      "text/plain": [
       "list"
      ]
     },
     "execution_count": 12,
     "metadata": {},
     "output_type": "execute_result"
    }
   ],
   "source": [
    "s=[2,3,4,5,6,'sudh',3+4j,'vaishnavi',3456.56]\n",
    "type(s)"
   ]
  },
  {
   "cell_type": "code",
   "execution_count": 14,
   "id": "62dd30a7-ed70-479e-a274-0ed2a38aa7cd",
   "metadata": {},
   "outputs": [
    {
     "data": {
      "text/plain": [
       "float"
      ]
     },
     "execution_count": 14,
     "metadata": {},
     "output_type": "execute_result"
    }
   ],
   "source": [
    "s=456.67\n",
    "type(s)"
   ]
  },
  {
   "cell_type": "code",
   "execution_count": 19,
   "id": "901f7624-1db8-4d78-8b0c-aa5f61ec260e",
   "metadata": {},
   "outputs": [
    {
     "data": {
      "text/plain": [
       "tuple"
      ]
     },
     "execution_count": 19,
     "metadata": {},
     "output_type": "execute_result"
    }
   ],
   "source": [
    "s=(1,2,3,4,5,456.67,3+4j )\n",
    "type(s)"
   ]
  },
  {
   "cell_type": "code",
   "execution_count": 39,
   "id": "5c073a37-7e8e-426a-acfb-b60d544e4079",
   "metadata": {},
   "outputs": [],
   "source": [
    "#2q.2 Given are some following variables containing data:\n",
    "#(i) var1 = ‘ ‘\n",
    "#(ii) var2 = ‘[ DS , ML , Python]’\n",
    "#(iii) var3 = [ ‘DS’ , ’ML’ , ‘Python’ ]\n",
    "#(iv) var4 = 1.\n",
    "#What will be the data type of the above given variable.\n",
    "#ANSWER\n",
    "#(i)string   \n",
    "#(ii)list\n",
    "#(iii)list\n",
    "#(iv)integer"
   ]
  },
  {
   "cell_type": "code",
   "execution_count": 43,
   "id": "fbd1086e-963e-4495-9dfd-5c27e9d97a17",
   "metadata": {},
   "outputs": [],
   "source": [
    "#Q3. Explain the use of the following operators using an example:\n",
    "#(i) /\n",
    "#ANSWER\n",
    "#USE=IT IS USED FOR DIVIDIN .IT IS DIVISION OPERATOR.\n",
    "#EXAMPLE=55/5\n",
    "#(ii) %\n",
    "#USE=IT IS USED FOR FIND OUT PERSENTAGE.IT IS ALSO MODULUS OPERATOR\n",
    "#EAMPLE=45%6\n",
    "#(iii) //\n",
    "#ANSWER\n",
    "#USE =IT IS  FLOOR DIVISION USED FOR DIVIDE TWO NUMBERS AND ROUNDS THE OUTCOME DOWN THE NEAREST INTEGER.\n",
    "#EXAMPLE=5//6\n",
    "#(iv) **\n",
    "#USE=IT IS USED FOR SHOW THE POWER .IT IS RAISE THE NUMBER ON THE LEFT TO THE POWER ON THE EXPONENT OF THE RIGHT.\n",
    "# EXAMPLE =2**3\n"
   ]
  },
  {
   "cell_type": "code",
   "execution_count": 47,
   "id": "2ff14569-dbe7-4feb-b8db-c85caf32ccc6",
   "metadata": {},
   "outputs": [],
   "source": [
    "#Q4. Create a list of length 10 of your choice containing multiple types of data. Using for loop print theelement and its data type."
   ]
  },
  {
   "cell_type": "code",
   "execution_count": 57,
   "id": "5cd074a4-ca33-45ad-a124-f769fffc4de5",
   "metadata": {},
   "outputs": [],
   "source": [
    "S=[2,3,4,5,6,3+5j,67.8,'VAISHNAVI','BANK',224]"
   ]
  },
  {
   "cell_type": "code",
   "execution_count": 59,
   "id": "1ba84f43-c0fe-4a5d-862e-5ebc5027ff26",
   "metadata": {},
   "outputs": [
    {
     "name": "stdout",
     "output_type": "stream",
     "text": [
      "<class 'int'>\n",
      "<class 'int'>\n",
      "<class 'int'>\n",
      "<class 'int'>\n",
      "<class 'int'>\n",
      "<class 'complex'>\n",
      "<class 'float'>\n",
      "<class 'str'>\n",
      "<class 'str'>\n",
      "<class 'int'>\n"
     ]
    }
   ],
   "source": [
    "for i in S:\n",
    "   print (type(i))"
   ]
  },
  {
   "cell_type": "code",
   "execution_count": 64,
   "id": "b2a9336c-ed2d-4c50-9ba7-41d582b088a2",
   "metadata": {},
   "outputs": [],
   "source": [
    "#Q5. Using a while loop, verify if the number A is purely divisible by number B and if so then how manytimes it can be divisible."
   ]
  },
  {
   "cell_type": "code",
   "execution_count": 2,
   "id": "3a2c34b7-2d27-47f1-93e7-8958c1f61076",
   "metadata": {},
   "outputs": [
    {
     "name": "stdout",
     "output_type": "stream",
     "text": [
      "9.0\n"
     ]
    }
   ],
   "source": [
    "a= 45 \n",
    "b= 5 \n",
    "while a>5:\n",
    "    print(a/5)\n",
    "    a=a/5\n",
    "    break"
   ]
  },
  {
   "cell_type": "code",
   "execution_count": 3,
   "id": "6025188f-faa3-4e99-a1b0-d57b6e5f7b5f",
   "metadata": {},
   "outputs": [],
   "source": [
    "#Q6. Create a list containing 25 int type data. Using for loop and if-else condition print if the element is divisible by 3 or not."
   ]
  },
  {
   "cell_type": "code",
   "execution_count": 27,
   "id": "2ceda610-d605-4422-b05c-28b795d7aaa1",
   "metadata": {},
   "outputs": [
    {
     "name": "stdout",
     "output_type": "stream",
     "text": [
      "3\n",
      "3 is divisible by 3.\n",
      "4\n",
      "4 is not divisible by 3.\n",
      "5\n",
      "5 is not divisible by 3.\n",
      "6\n",
      "6 is divisible by 3.\n",
      "7\n",
      "7 is not divisible by 3.\n",
      "8\n",
      "8 is not divisible by 3.\n",
      "9\n",
      "9 is divisible by 3.\n",
      "10\n",
      "10 is not divisible by 3.\n",
      "11\n",
      "11 is not divisible by 3.\n",
      "12\n",
      "12 is divisible by 3.\n",
      "13\n",
      "13 is not divisible by 3.\n",
      "14\n",
      "14 is not divisible by 3.\n",
      "15\n",
      "15 is divisible by 3.\n",
      "16\n",
      "16 is not divisible by 3.\n",
      "17\n",
      "17 is not divisible by 3.\n",
      "18\n",
      "18 is divisible by 3.\n",
      "19\n",
      "19 is not divisible by 3.\n",
      "20\n",
      "20 is not divisible by 3.\n",
      "21\n",
      "21 is divisible by 3.\n",
      "22\n",
      "22 is not divisible by 3.\n",
      "23\n",
      "23 is not divisible by 3.\n",
      "23\n",
      "23 is not divisible by 3.\n",
      "25\n",
      "25 is not divisible by 3.\n",
      "26\n",
      "26 is not divisible by 3.\n",
      "27\n",
      "27 is divisible by 3.\n"
     ]
    }
   ],
   "source": [
    "l1=[3,4,5,6,7,8,9,10,11,12,13,14,15,16,17,18,19,20,21,22,23,23,25,26,27]\n",
    "for i in l1:\n",
    "    print(i)\n",
    "    if i%3 ==0:\n",
    "     print(i, \"is divisible by 3.\")\n",
    "    else:\n",
    "        print(i, \"is not divisible by 3.\")\n",
    "    \n",
    "    \n"
   ]
  },
  {
   "cell_type": "code",
   "execution_count": 57,
   "id": "d6b1210f-d91c-4805-9854-5cc903b7b51a",
   "metadata": {
    "tags": []
   },
   "outputs": [
    {
     "data": {
      "text/plain": [
       "'.Q.7What do you understand about mutable and immutable data types? Give examples for both showingthis property.\\nANSWER \\n#MUTABLE DATA TYPE:\\nBasically, A mutable can be changed/mutated after it is created.\\nwe can modify the already existing values of the data types (such as lists, dictionaries, etc.). \\nOr, we may add new values or remove the existing values from our data types.\\nBasically, we may perform any operation with our data without having to create a new copy of our data type. \\nHence, the value assigned to any variable can be changed.\\nEXAMPLE:list,dictionaries,set.\\n#IMMUTABLE DATA TYPE:\\nAn immutable data type cannot be changed after it is created.\\nFor example, String is an immutable data type in Python. We cannot change its content, otherwise, we may fall into a TypeError. \\nEven if we assign any new content to immutable objects, then a new object is created (instead of the original being modified).\\nExample: tuples, int, float, bool.'"
      ]
     },
     "execution_count": 57,
     "metadata": {},
     "output_type": "execute_result"
    }
   ],
   "source": [
    "\"\"\".Q.7What do you understand about mutable and immutable data types? Give examples for both showingthis property.\n",
    "ANSWER \n",
    "#MUTABLE DATA TYPE:\n",
    "Basically, A mutable can be changed/mutated after it is created.\n",
    "we can modify the already existing values of the data types (such as lists, dictionaries, etc.). \n",
    "Or, we may add new values or remove the existing values from our data types.\n",
    "Basically, we may perform any operation with our data without having to create a new copy of our data type. \n",
    "Hence, the value assigned to any variable can be changed.\n",
    "EXAMPLE:list,dictionaries,set.\n",
    "#IMMUTABLE DATA TYPE:\n",
    "An immutable data type cannot be changed after it is created.\n",
    "For example, String is an immutable data type in Python. We cannot change its content, otherwise, we may fall into a TypeError. \n",
    "Even if we assign any new content to immutable objects, then a new object is created (instead of the original being modified).\n",
    "Example: tuples, int, float, bool.\"\"\"\n"
   ]
  },
  {
   "cell_type": "code",
   "execution_count": 47,
   "id": "1518bad1-9a7b-4094-988d-401118784523",
   "metadata": {},
   "outputs": [],
   "source": [
    "l1=[34,45,67,\"sudha\",4+5j,'True']"
   ]
  },
  {
   "cell_type": "code",
   "execution_count": 48,
   "id": "28994eb8-ad67-428e-9990-bba924c734d3",
   "metadata": {},
   "outputs": [
    {
     "data": {
      "text/plain": [
       "list"
      ]
     },
     "execution_count": 48,
     "metadata": {},
     "output_type": "execute_result"
    }
   ],
   "source": [
    "type(l1)"
   ]
  },
  {
   "cell_type": "code",
   "execution_count": 49,
   "id": "272919fb-6774-4bad-8efc-deef099dfd16",
   "metadata": {},
   "outputs": [],
   "source": [
    "l1[2]=\"pwskills\""
   ]
  },
  {
   "cell_type": "code",
   "execution_count": 43,
   "id": "f5352025-ebde-4ac3-88dd-a2c94d6aab22",
   "metadata": {},
   "outputs": [
    {
     "data": {
      "text/plain": [
       "[34, 45, 'pwskills', 'sudha', (4+5j), 'True']"
      ]
     },
     "execution_count": 43,
     "metadata": {},
     "output_type": "execute_result"
    }
   ],
   "source": [
    "l1"
   ]
  },
  {
   "cell_type": "code",
   "execution_count": 45,
   "id": "63976e48-cd39-46b1-9be1-561bec387771",
   "metadata": {},
   "outputs": [],
   "source": [
    "s=\"vaishnavi\""
   ]
  },
  {
   "cell_type": "code",
   "execution_count": 51,
   "id": "1d1e8bbe-28b7-475d-b00c-f91006a4a276",
   "metadata": {},
   "outputs": [
    {
     "data": {
      "text/plain": [
       "str"
      ]
     },
     "execution_count": 51,
     "metadata": {},
     "output_type": "execute_result"
    }
   ],
   "source": [
    "type(s)"
   ]
  },
  {
   "cell_type": "code",
   "execution_count": 53,
   "id": "cdc3be1d-2387-4b5c-ab45-ca2883823510",
   "metadata": {},
   "outputs": [
    {
     "ename": "TypeError",
     "evalue": "'str' object does not support item assignment",
     "output_type": "error",
     "traceback": [
      "\u001b[0;31m---------------------------------------------------------------------------\u001b[0m",
      "\u001b[0;31mTypeError\u001b[0m                                 Traceback (most recent call last)",
      "Cell \u001b[0;32mIn[53], line 1\u001b[0m\n\u001b[0;32m----> 1\u001b[0m \u001b[43ms\u001b[49m\u001b[43m[\u001b[49m\u001b[38;5;241;43m1\u001b[39;49m\u001b[43m]\u001b[49m\u001b[38;5;241m=\u001b[39m\u001b[38;5;124m'\u001b[39m\u001b[38;5;124mu\u001b[39m\u001b[38;5;124m'\u001b[39m\n",
      "\u001b[0;31mTypeError\u001b[0m: 'str' object does not support item assignment"
     ]
    }
   ],
   "source": [
    "s[1]='u'"
   ]
  }
 ],
 "metadata": {
  "kernelspec": {
   "display_name": "Python 3 (ipykernel)",
   "language": "python",
   "name": "python3"
  },
  "language_info": {
   "codemirror_mode": {
    "name": "ipython",
    "version": 3
   },
   "file_extension": ".py",
   "mimetype": "text/x-python",
   "name": "python",
   "nbconvert_exporter": "python",
   "pygments_lexer": "ipython3",
   "version": "3.10.8"
  }
 },
 "nbformat": 4,
 "nbformat_minor": 5
}
